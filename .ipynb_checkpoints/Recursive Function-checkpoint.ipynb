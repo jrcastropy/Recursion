{
 "cells": [
  {
   "cell_type": "code",
   "execution_count": 5,
   "id": "a9a9b794",
   "metadata": {},
   "outputs": [
    {
     "name": "stdout",
     "output_type": "stream",
     "text": [
      "N: 5\n",
      "N: 4\n",
      "N: 3\n",
      "N: 2\n"
     ]
    },
    {
     "data": {
      "text/plain": [
       "120"
      ]
     },
     "execution_count": 5,
     "metadata": {},
     "output_type": "execute_result"
    }
   ],
   "source": [
    "# Factorial Recursive\n",
    "\n",
    "def fact_rec(n):\n",
    "    # Base Code\n",
    "    if n == 1:\n",
    "        return 1\n",
    "    print(\"N:\", n)\n",
    "    return n * fact_rec(n-1)\n",
    "\n",
    "fact_rec(5)"
   ]
  },
  {
   "cell_type": "code",
   "execution_count": null,
   "id": "c4374732",
   "metadata": {},
   "outputs": [],
   "source": [
    "'''\n",
    "Your music player contains 'n' different songs and she wants to listen to 'l' (not necessarily different) \n",
    "songs during your trip. You create a playlist so that:\n",
    "\n",
    "    - Every song is played at least once\n",
    "    - A song can only be played again only if 'K' other songs have been played\n",
    "    \n",
    "Return the number of possible playlists. As the answer can be very large, return it modulo 10^9 + 7\n",
    "\n",
    "Example 1:\n",
    "Input: N=3, L=3, K=1\n",
    "Ouput: 6\n",
    "Explanation: There are 6 possible playlists:\n",
    "    [1, 2, 3]\n",
    "    [1, 3, 2]\n",
    "    [2, 1, 3]\n",
    "    [2, 3, 1]\n",
    "    [3, 1, 2]\n",
    "    [3, 2, 1]\n",
    "    \n",
    "Example 2:    \n",
    "Input: N=2, L=3, K=0\n",
    "Ouput: 6\n",
    "Explanation: There are 6 possible playlists: \n",
    "    [1, 1, 2]\n",
    "    [1, 2, 1]\n",
    "    [1, 2, 2]\n",
    "    [2, 1, 1]\n",
    "    [2, 2, 1]\n",
    "    [2, 1, 2]\n",
    "    \n",
    "Example 3:\n",
    "Input: N=2, L=3, K=1\n",
    "Ouput: 2\n",
    "Explanation: There are 2 possible playlists:\n",
    "    [1, 2, 1]\n",
    "    [2, 1, 2]\n",
    "    \n",
    "Note:\n",
    "1. 0 <= K < N <= L <= 100\n",
    "'''"
   ]
  },
  {
   "cell_type": "code",
   "execution_count": null,
   "id": "7b2e1a09",
   "metadata": {},
   "outputs": [],
   "source": [
    "def recursive_playlist(N, L, K):\n",
    "    # N is the number of songs\n",
    "    # L is the song he/she wants to listen\n",
    "    # K is the number of different songs to be played before repeating the\n",
    "    # Base Case\n",
    "    if \n",
    "    "
   ]
  },
  {
   "cell_type": "code",
   "execution_count": 17,
   "id": "7cf181d0",
   "metadata": {},
   "outputs": [
    {
     "name": "stdout",
     "output_type": "stream",
     "text": [
      "2\n",
      "2\n",
      "2\n",
      "2\n",
      "2\n",
      "2\n",
      "2\n",
      "2\n",
      "2\n",
      "6\n",
      "24\n",
      "120\n",
      "720\n",
      "5040\n",
      "40320\n",
      "362880\n",
      "3628800\n"
     ]
    },
    {
     "data": {
      "text/plain": [
       "3628800"
      ]
     },
     "execution_count": 17,
     "metadata": {},
     "output_type": "execute_result"
    }
   ],
   "source": [
    "import math\n",
    "def numMusicPlaylists(N, L, K):\n",
    "    dp = [[0 for i in range(L + 1)] for j in range(N + 1)]\n",
    "\n",
    "    for i in range(K + 1, N + 1):\n",
    "        for j in range(i, L + 1):\n",
    "            if i == j or i == K + 1:\n",
    "                dp[i][j] = math.factorial(i)\n",
    "                print(dp[i][j])\n",
    "            else:\n",
    "                dp[i][j] = dp[i - 1][j - 1] * i + dp[i][j - 1] * (i - K)\n",
    "\n",
    "    return dp[N][L] % (10**9 + 7)\n",
    "\n",
    "numMusicPlaylists(10, 10, 1)"
   ]
  },
  {
   "cell_type": "code",
   "execution_count": 10,
   "id": "523df933",
   "metadata": {},
   "outputs": [
    {
     "data": {
      "text/plain": [
       "120"
      ]
     },
     "execution_count": 10,
     "metadata": {},
     "output_type": "execute_result"
    }
   ],
   "source": []
  }
 ],
 "metadata": {
  "kernelspec": {
   "display_name": "Python 3",
   "language": "python",
   "name": "python3"
  },
  "language_info": {
   "codemirror_mode": {
    "name": "ipython",
    "version": 3
   },
   "file_extension": ".py",
   "mimetype": "text/x-python",
   "name": "python",
   "nbconvert_exporter": "python",
   "pygments_lexer": "ipython3",
   "version": "3.8.5"
  }
 },
 "nbformat": 4,
 "nbformat_minor": 5
}
